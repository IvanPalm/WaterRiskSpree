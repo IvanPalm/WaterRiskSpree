{
 "cells": [
  {
   "cell_type": "code",
   "execution_count": 8,
   "id": "0e9b7148-0293-4c05-8aaf-1f5416c38f0e",
   "metadata": {},
   "outputs": [],
   "source": [
    "import geopandas as gpd\n",
    "import ee\n",
    "import geemap\n",
    "import os\n",
    "ee.Initialize()"
   ]
  },
  {
   "cell_type": "code",
   "execution_count": 2,
   "id": "b8059b61-3a73-4de2-88c0-b012c90be6e1",
   "metadata": {},
   "outputs": [],
   "source": [
    "datadir = \"./data\"\n",
    "spree_json = \"spree_basin.geojson\""
   ]
  },
  {
   "cell_type": "code",
   "execution_count": 10,
   "id": "970c005f-37e3-4bab-aa6a-62a660030bdf",
   "metadata": {},
   "outputs": [
    {
     "name": "stderr",
     "output_type": "stream",
     "text": [
      "/home/ivan/miniconda3/envs/pygee/lib/python3.9/site-packages/geopandas/io/file.py:362: FutureWarning: pandas.Int64Index is deprecated and will be removed from pandas in a future version. Use pandas.Index with the appropriate dtype instead.\n",
      "  pd.Int64Index,\n"
     ]
    }
   ],
   "source": [
    "# spree_basin = gpd.read_file(os.path.join(datadir, spree_json))\n",
    "# spree_basin.to_file(os.path.join(datadir, \"spree_basin.shp\"), driver='ESRI Shapefile')"
   ]
  },
  {
   "cell_type": "code",
   "execution_count": null,
   "id": "0ba712b7-da0b-45b3-85ef-048fe50ec319",
   "metadata": {},
   "outputs": [],
   "source": []
  },
  {
   "cell_type": "code",
   "execution_count": 7,
   "id": "7dde4e97-9392-44a3-bce2-45740c3582b6",
   "metadata": {},
   "outputs": [],
   "source": [
    "fcSpree = geemap.geojson_to_ee(os.path.join(datadir, spree_json))"
   ]
  },
  {
   "cell_type": "code",
   "execution_count": 4,
   "id": "ac3c7c71-6833-4d0b-a577-642f9655afac",
   "metadata": {},
   "outputs": [],
   "source": [
    "Map = geemap.Map()"
   ]
  },
  {
   "cell_type": "code",
   "execution_count": 5,
   "id": "9c938e85-09db-4f2d-afd4-970391155c45",
   "metadata": {},
   "outputs": [
    {
     "data": {
      "application/vnd.jupyter.widget-view+json": {
       "model_id": "93759015590746c0a09940d068759da1",
       "version_major": 2,
       "version_minor": 0
      },
      "text/plain": [
       "Map(center=[20, 0], controls=(WidgetControl(options=['position', 'transparent_bg'], widget=HBox(children=(Togg…"
      ]
     },
     "metadata": {},
     "output_type": "display_data"
    }
   ],
   "source": [
    "pop = ee.ImageCollection(\"WorldPop/GP/100m/pop\").filterBounds(fcSpree);\n",
    "\n",
    "popVisParams = {\n",
    "  'bands': ['population'],\n",
    "  min: 0.0,\n",
    "  max: 50.0,\n",
    "  'palette': ['24126c', '1fff4f', 'd4ff50']\n",
    "};\n",
    "\n",
    "Map.addLayer(pop, popVisParams, 'Population')\n",
    "Map.addLayer(fcSpree, {'color': 'blue'}, 'Spree River Basin')\n",
    "Map.centerObject(fcSpree)\n",
    "Map"
   ]
  }
 ],
 "metadata": {
  "interpreter": {
   "hash": "a0962a947df85fa5c86581bf3e9b2f30823d5a1980b1bcde68ee283763cc0cd1"
  },
  "kernelspec": {
   "display_name": "PyGEE",
   "language": "python",
   "name": "pygee"
  },
  "language_info": {
   "codemirror_mode": {
    "name": "ipython",
    "version": 3
   },
   "file_extension": ".py",
   "mimetype": "text/x-python",
   "name": "python",
   "nbconvert_exporter": "python",
   "pygments_lexer": "ipython3",
   "version": "3.9.10"
  }
 },
 "nbformat": 4,
 "nbformat_minor": 5
}
